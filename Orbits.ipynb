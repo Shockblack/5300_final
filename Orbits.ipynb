{
 "cells": [
  {
   "attachments": {},
   "cell_type": "markdown",
   "metadata": {},
   "source": [
    "# Solving Gravitational Orbits\n",
    "### 5300 Final Problem 2 | Aiden Zelakiewicz"
   ]
  },
  {
   "cell_type": "code",
   "execution_count": 1,
   "metadata": {},
   "outputs": [],
   "source": [
    "import numpy as np\n",
    "import matplotlib.pyplot as plt\n",
    "from scipy.integrate import solve_ivp"
   ]
  },
  {
   "cell_type": "code",
   "execution_count": 2,
   "metadata": {},
   "outputs": [],
   "source": [
    "class Orbit:\n",
    "    \"\"\"Class that represents an orbit in 2D space using Lagrangian mechanics.\n",
    "\n",
    "    Parameters\n",
    "    ----------\n",
    "    G : float\n",
    "        Gravitational constant.\n",
    "    m1 : float\n",
    "        Mass of the first object.\n",
    "    m2 : float\n",
    "        Mass of the second object.\n",
    "    \"\"\"\n",
    "\n",
    "    def __init__(self, G = 1., m1 = 1., m2 = 1.):\n",
    "        # Initialize the parameters as class attributes\n",
    "        self.G = G\n",
    "        self.m1 = m1\n",
    "        self.m2 = m2\n",
    "\n",
    "    def dz_dt(self, t, z):\n",
    "        \"\"\"\n",
    "        Parameters\n",
    "        ----------\n",
    "        t : float\n",
    "            Time\n",
    "        z : float\n",
    "            8-component vector with\n",
    "                z[0] = x1(t), z[1] = x1_dot(t),\n",
    "                z[2] = y1(t), z[3] = y1_dot(t),\n",
    "                z[4] = x2(t), z[5] = x2_dot(t),\n",
    "                z[6] = y2(t), z[7] = y2_dot(t)\n",
    "        \"\"\"\n",
    "        x1, x1_dot, y1, y1_dot, x2, x2_dot, y2, y2_dot = z\n",
    "\n",
    "        # Distance between the two orbiting objects\n",
    "        R = np.sqrt((x1 - x2)**2 + (y1 - y2)**2)\n",
    "\n",
    "        # Getting the second derivatives\n",
    "        x1_dot_dot = self.G * self.m2 * (x2 - x1) / R**3\n",
    "        y1_dot_dot = self.G * self.m2 * (y2 - y1) / R**3\n",
    "        x2_dot_dot = self.G * self.m1 * (x1 - x2) / R**3\n",
    "        y2_dot_dot = self.G * self.m1 * (y1 - y2) / R**3\n",
    "\n",
    "        return [x1_dot, x1_dot_dot, \\\n",
    "                y1_dot, y1_dot_dot, \\\n",
    "                x2_dot, x2_dot_dot, \\\n",
    "                y2_dot, y2_dot_dot]\n",
    "\n",
    "    def solve_ode(self, t_pts, z_0, abserr=1.0e-10, relerr=1.0e-10):\n",
    "        \"\"\"Solve the ODE given initial conditions.\n",
    "\n",
    "        Parameters\n",
    "        ----------\n",
    "        t_pts : float\n",
    "            Times at which to solve the ODE.\n",
    "        z_0 : float\n",
    "            Initial conditions.\n",
    "        abserr : float\n",
    "            Absolute error tolerance.\n",
    "        relerr : float\n",
    "            Relative error tolerance.\n",
    "        \"\"\"\n",
    "        \n",
    "        # Default method is 'RK45'\n",
    "        solution = solve_ivp(self.dz_dt, (t_pts[0], t_pts[-1]), z_0, t_eval=t_pts, atol=abserr, rtol=relerr)\n",
    "\n",
    "        x1, x1_dot, y1, y1_dot, x2, x2_dot, y2, y2_dot = solution.y\n",
    "\n",
    "        return x1, x1_dot, y1, y1_dot, x2, x2_dot, y2, y2_dot"
   ]
  },
  {
   "attachments": {},
   "cell_type": "markdown",
   "metadata": {},
   "source": [
    "### Importing some functions from older notebooks"
   ]
  },
  {
   "cell_type": "code",
   "execution_count": 3,
   "metadata": {},
   "outputs": [],
   "source": [
    "def start_stop_indices(t_pts, plot_start, plot_stop):\n",
    "    start_index = (np.fabs(t_pts-plot_start)).argmin()  # index in t_pts array \n",
    "    stop_index = (np.fabs(t_pts-plot_stop)).argmin()  # index in t_pts array \n",
    "    return start_index, stop_index"
   ]
  },
  {
   "cell_type": "code",
   "execution_count": 4,
   "metadata": {},
   "outputs": [],
   "source": [
    "def plot_y_vs_x(x, y, axis_labels=None, label=None, title=None, \n",
    "                color=None, linestyle=None, semilogy=False, loglog=False,\n",
    "                ax=None):\n",
    "    \"\"\"\n",
    "    Generic plotting function: return a figure axis with a plot of y vs. x,\n",
    "    with line color and style, title, axis labels, and line label\n",
    "    \"\"\"\n",
    "    if ax is None:        # if the axis object doesn't exist, make one\n",
    "        ax = plt.gca()\n",
    "\n",
    "    if (semilogy):\n",
    "        line, = ax.semilogy(x, y, label=label, \n",
    "                            color=color, linestyle=linestyle)\n",
    "    elif (loglog):\n",
    "        line, = ax.loglog(x, y, label=label, \n",
    "                            color=color, linestyle=linestyle)\n",
    "    else:\n",
    "        line, = ax.plot(x, y, label=label, \n",
    "                    color=color, linestyle=linestyle)\n",
    "\n",
    "    if label is not None:    # if a label if passed, show the legend\n",
    "        ax.legend()\n",
    "    if title is not None:    # set a title if one if passed\n",
    "        ax.set_title(title)\n",
    "    if axis_labels is not None:  # set x-axis and y-axis labels if passed  \n",
    "        ax.set_xlabel(axis_labels[0])\n",
    "        ax.set_ylabel(axis_labels[1])\n",
    "\n",
    "    return ax, line"
   ]
  },
  {
   "attachments": {},
   "cell_type": "markdown",
   "metadata": {},
   "source": [
    "### Preparing the plots and plotting"
   ]
  },
  {
   "cell_type": "code",
   "execution_count": 5,
   "metadata": {},
   "outputs": [],
   "source": [
    "# Getting times\n",
    "t_start = 0.\n",
    "t_end = 10.\n",
    "delta_t = 0.001\n",
    "\n",
    "t_pts = np.arange(t_start, t_end+delta_t, delta_t)\n",
    "\n",
    "# Labels for the orbits\n",
    "orbit_labels = (r'$x$', r'$y$')"
   ]
  },
  {
   "cell_type": "code",
   "execution_count": 6,
   "metadata": {},
   "outputs": [],
   "source": [
    "# Setting up the orbit class\n",
    "m1 = 1.\n",
    "m2 = 5.\n",
    "G = 1.\n",
    "o1 = Orbit(G=G, m1=m1, m2=m2)\n",
    "\n",
    "# Getting initial conditions that set the center of mass velocity to zero\n",
    "x1_0 = 1.\n",
    "x1_dot_0 = -1\n",
    "y1_0 = 1.\n",
    "y1_dot_0 = 1.\n",
    "x2_0 = -(m1/m2) * x1_0\n",
    "x2_dot_0 = -(m1/m2) * x1_dot_0\n",
    "y2_0 = -(m1/m2) * y1_0\n",
    "y2_dot_0 = -(m1/m2) * y1_dot_0\n",
    "\n",
    "\n",
    "# Solving the differential equation\n",
    "z_0 = [x1_0, x1_dot_0, y1_0, y1_dot_0, x2_0, x2_dot_0, y2_0, y2_dot_0]\n",
    "x1, x1_dot, y1, y1_dot, x2, x2_dot, y2, y2_dot = o1.solve_ode(t_pts, z_0)\n"
   ]
  },
  {
   "cell_type": "code",
   "execution_count": 12,
   "metadata": {},
   "outputs": [
    {
     "data": {
      "image/png": "[encoded data removed]",
      "text/plain": [
       "<Figure size 576x576 with 1 Axes>"
      ]
     },
     "metadata": {},
     "output_type": "display_data"
    }
   ],
   "source": [
    "# Plotting the orbits\n",
    "fig = plt.figure(figsize=(8,8))\n",
    "plt.style.use('ggplot')\n",
    "ax = fig.add_subplot(1,1,1)\n",
    "\n",
    "t_start = 0.\n",
    "t_end = 20.\n",
    "start, stop = start_stop_indices(t_pts, t_start, t_end)\n",
    "\n",
    "ax.plot(x1, y1, label='Mass 1 = {:.2f}'.format(m1))\n",
    "ax.plot(x2, y2, label='Mass 2 = {:.2f}'.format(m2))\n",
    "\n",
    "ax.set_xlabel(orbit_labels[0])\n",
    "ax.set_ylabel(orbit_labels[1])\n",
    "\n",
    "ax.set_title('Orbits of Two Objects')\n",
    "plt.legend()\n",
    "plt.show()"
   ]
  },
  {
   "attachments": {},
   "cell_type": "markdown",
   "metadata": {},
   "source": [
    "### Now do case where $m_1 >> m_2$"
   ]
  },
  {
   "cell_type": "code",
   "execution_count": 9,
   "metadata": {},
   "outputs": [],
   "source": [
    "# Setting up the orbit class\n",
    "m1 = 1.\n",
    "m2 = 40.\n",
    "G = 1.\n",
    "o1 = Orbit(G=G, m1=m1, m2=m2)\n",
    "\n",
    "# Getting initial conditions that set the center of mass velocity to zero\n",
    "x1_0 = 1.\n",
    "x1_dot_0 = -1.\n",
    "y1_0 = 1.\n",
    "y1_dot_0 = 1.\n",
    "x2_0 = -(m1/m2) * x1_0\n",
    "x2_dot_0 = -(m1/m2) * x1_dot_0\n",
    "y2_0 = -(m1/m2) * y1_0\n",
    "y2_dot_0 = -(m1/m2) * y1_dot_0\n",
    "\n",
    "\n",
    "# Solving the differential equation\n",
    "z_0 = [x1_0, x1_dot_0, y1_0, y1_dot_0, x2_0, x2_dot_0, y2_0, y2_dot_0]\n",
    "x1, x1_dot, y1, y1_dot, x2, x2_dot, y2, y2_dot = o1.solve_ode(t_pts, z_0)\n"
   ]
  },
  {
   "cell_type": "code",
   "execution_count": 11,
   "metadata": {},
   "outputs": [
    {
     "data": {
      "image/png": "[encoded data removed]",
      "text/plain": [
       "<Figure size 576x576 with 1 Axes>"
      ]
     },
     "metadata": {},
     "output_type": "display_data"
    }
   ],
   "source": [
    "# Plotting the orbits\n",
    "fig = plt.figure(figsize=(8,8))\n",
    "plt.style.use('ggplot')\n",
    "ax = fig.add_subplot(1,1,1)\n",
    "\n",
    "t_start = 0.\n",
    "t_end = 20.\n",
    "start, stop = start_stop_indices(t_pts, t_start, t_end)\n",
    "\n",
    "ax.plot(x1, y1, label='Mass 1 = {:.2f}'.format(m1))\n",
    "ax.plot(x2, y2, label='Mass 2 = {:.2f}'.format(m2))\n",
    "\n",
    "ax.set_xlabel(orbit_labels[0])\n",
    "ax.set_ylabel(orbit_labels[1])\n",
    "\n",
    "ax.set_title('Orbits of Two Objects')\n",
    "plt.legend()\n",
    "plt.show()"
   ]
  },
  {
   "attachments": {},
   "cell_type": "markdown",
   "metadata": {},
   "source": [
    "#### The above orbit looks like that of an eccentric exoplanet (the first thing that came to mind)! This is how many stellar systems interact, so it is exactly as expected. The speed of the lower mass object will be much greater at periapse than at apoapse."
   ]
  }
 ],
 "metadata": {
  "kernelspec": {
   "display_name": "base",
   "language": "python",
   "name": "python3"
  },
  "language_info": {
   "codemirror_mode": {
    "name": "ipython",
    "version": 3
   },
   "file_extension": ".py",
   "mimetype": "text/x-python",
   "name": "python",
   "nbconvert_exporter": "python",
   "pygments_lexer": "ipython3",
   "version": "3.9.12"
  },
  "orig_nbformat": 4
 },
 "nbformat": 4,
 "nbformat_minor": 2
}
